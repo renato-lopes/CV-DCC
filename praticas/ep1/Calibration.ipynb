{
 "cells": [
  {
   "cell_type": "markdown",
   "metadata": {},
   "source": [
    "# Camera Calibration\n",
    "\n",
    "Renato Sérgio Lopes Júnior"
   ]
  },
  {
   "cell_type": "code",
   "execution_count": 1,
   "metadata": {},
   "outputs": [],
   "source": [
    "import numpy as np\n",
    "import cv2"
   ]
  },
  {
   "cell_type": "markdown",
   "metadata": {},
   "source": [
    "## Creating matrix A and computing the SVD"
   ]
  },
  {
   "cell_type": "code",
   "execution_count": 47,
   "metadata": {},
   "outputs": [],
   "source": [
    "N = 3 # amount of points\n",
    "image_coords = np.array([[0, 1], [2, 1], [3, 3]])\n",
    "world_coords = np.array([[10, 15, 1], [21, 12, 3], [32, 30, 10]])\n",
    "\n",
    "def compute_SVD(A):\n",
    "    U, S, Vt = np.linalg.svd(A, full_matrices=False)\n",
    "    return U, S, Vt"
   ]
  },
  {
   "cell_type": "code",
   "execution_count": 57,
   "metadata": {},
   "outputs": [],
   "source": [
    "def create_matrix_A(image_coords, world_coords, N):\n",
    "    A = np.zeros([N, 8])\n",
    "    for i in range(N):\n",
    "        x = image_coords[i][0]\n",
    "        y = image_coords[i][1]\n",
    "        X = world_coords[i][0]\n",
    "        Y = world_coords[i][1]\n",
    "        Z = world_coords[i][2]\n",
    "        A[i][0] = x*X\n",
    "        A[i][1] = x*Y\n",
    "        A[i][2] = x*Z\n",
    "        A[i][3] = x\n",
    "        A[i][4] = -y*X\n",
    "        A[i][5] = -y*Y\n",
    "        A[i][6] = -y*Z\n",
    "        A[i][7] = -y\n",
    "    return A\n",
    "\n",
    "# Create matrix A\n",
    "A = create_matrix_A(image_coords, world_coords, N)\n",
    "# Compute SVD of A\n",
    "U, S, Vt = compute_SVD(A)\n",
    "# Get V\n",
    "index = np.argmin(S) # Get index of lowest element\n",
    "V = Vt[index]"
   ]
  },
  {
   "cell_type": "markdown",
   "metadata": {},
   "source": [
    "## Computing $R$, $T$ and $f_x$"
   ]
  },
  {
   "cell_type": "code",
   "execution_count": 50,
   "metadata": {},
   "outputs": [],
   "source": [
    "# Compute gamma and alpha\n",
    "gamma = np.sqrt((V[0]**2) + (V[1]**2) + (V[2]**2))\n",
    "alpha = np.sqrt((V[4]**2) + (V[5]**2) + (V[6]**2))/gamma"
   ]
  },
  {
   "cell_type": "code",
   "execution_count": 45,
   "metadata": {},
   "outputs": [],
   "source": [
    "# Recover the first two rows of R\n",
    "R = np.zeros([3, 3])\n",
    "R[1][0] = V[0]/gamma\n",
    "R[1][1] = V[1]/gamma\n",
    "R[1][2] = V[2]/gamma\n",
    "R[0][0] = V[4]/(gamma*alpha)\n",
    "R[0][1] = V[5]/(gamma*alpha)\n",
    "R[0][2] = V[6]/(gamma*alpha)\n",
    "\n",
    "# Compute the third row of R\n",
    "R[2] = np.cross(R[0], R[1])\n",
    "\n",
    "# Enforce orthogonality in R\n",
    "U, S, Vt = compute_SVD(R)\n",
    "R = np.matmul(U, Vt.transpose())np.matmul(R, R.transpose())"
   ]
  },
  {
   "cell_type": "code",
   "execution_count": 46,
   "metadata": {},
   "outputs": [],
   "source": [
    "# Recover the first two components of T\n",
    "T = np.zeros([3])\n",
    "T[1] = V[3]/gamma\n",
    "T[0] = V[7]/(gamma*alpha)"
   ]
  },
  {
   "cell_type": "code",
   "execution_count": 56,
   "metadata": {},
   "outputs": [],
   "source": [
    "# Check if sign must change\n",
    "P = 0 # Selected point\n",
    "if image_coords[P][0]*(R[0][0]*world_coords[P][0] + R[0][1]*world_coords[P][1] + R[0][2]*world_coords[P][2] + T[0]) > 0:\n",
    "    R[0] = (-1) * R[0]\n",
    "    R[1] = (-1) * R[1]\n",
    "    T[0] = (-1) * T[0]\n",
    "    T[1] = (-1) * T[1]"
   ]
  },
  {
   "cell_type": "code",
   "execution_count": 62,
   "metadata": {},
   "outputs": [
    {
     "name": "stderr",
     "output_type": "stream",
     "text": [
      "/home/renato/anaconda3/envs/computer-vision/lib/python3.7/site-packages/ipykernel_launcher.py:12: FutureWarning: `rcond` parameter will change to the default of machine precision times ``max(M, N)`` where M and N are the input matrix dimensions.\n",
      "To use the future default and silence this warning we advise to pass `rcond=None`, to keep using the old, explicitly pass `rcond=-1`.\n",
      "  if sys.path[0] == '':\n"
     ]
    }
   ],
   "source": [
    "# Estimate Tz and fx\n",
    "def create_system(image_coords, world_coords, N, R, T):\n",
    "    A = np.zeros([N, 2])\n",
    "    b = np.zeros([N])\n",
    "    for i in range(N):\n",
    "        A[i][0] = image_coords[i][0]\n",
    "        A[i][1] = R[0][0]*world_coords[i][0] + R[0][1]*world_coords[i][1] + R[0][2]*world_coords[i][2] + T[0]\n",
    "        b[i] = -image_coords[i][0]*(R[2][0]*world_coords[i][0] + R[2][1]*world_coords[i][1] + R[2][2]*world_coords[i][2])\n",
    "    return A, b    \n",
    "\n",
    "A2, b = create_system(image_coords, world_coords, N, R, T)\n",
    "S = np.linalg.lstsq(A2, b)[0]\n",
    "# S = np.matmul(np.matmul(np.linalg.inv(np.matmul(A2.transpose(), A2)), A2.transpose()), b)\n",
    "T[2] = S[0]\n",
    "fx = S[1]"
   ]
  },
  {
   "cell_type": "code",
   "execution_count": 63,
   "metadata": {},
   "outputs": [
    {
     "name": "stdout",
     "output_type": "stream",
     "text": [
      "R [[-0.21822582 -0.95123459 -0.21801434]\n",
      " [ 0.10390752 -0.24477682  0.96399561]\n",
      " [-0.97035082  0.1877154   0.15225705]]\n",
      "T [ 0.19136671 -0.06699347 19.41997946]\n",
      "alpha 0.687411790002347\n",
      "fx -0.22885944922518464\n"
     ]
    }
   ],
   "source": [
    "print('R', R)\n",
    "print('T', T)\n",
    "print('alpha', alpha)\n",
    "print('fx', fx)"
   ]
  }
 ],
 "metadata": {
  "kernelspec": {
   "display_name": "Python 3",
   "language": "python",
   "name": "python3"
  },
  "language_info": {
   "codemirror_mode": {
    "name": "ipython",
    "version": 3
   },
   "file_extension": ".py",
   "mimetype": "text/x-python",
   "name": "python",
   "nbconvert_exporter": "python",
   "pygments_lexer": "ipython3",
   "version": "3.7.7"
  }
 },
 "nbformat": 4,
 "nbformat_minor": 4
}
